{
  "nbformat": 4,
  "nbformat_minor": 0,
  "metadata": {
    "colab": {
      "provenance": [],
      "authorship_tag": "ABX9TyOz2mfvWI9AAXUujdFBc9F6",
      "include_colab_link": true
    },
    "kernelspec": {
      "name": "python3",
      "display_name": "Python 3"
    },
    "language_info": {
      "name": "python"
    }
  },
  "cells": [
    {
      "cell_type": "markdown",
      "metadata": {
        "id": "view-in-github",
        "colab_type": "text"
      },
      "source": [
        "<a href=\"https://colab.research.google.com/github/minalfrancis/sql_music_examples/blob/master/Amazon_web_scrap.ipynb\" target=\"_parent\"><img src=\"https://colab.research.google.com/assets/colab-badge.svg\" alt=\"Open In Colab\"/></a>"
      ]
    },
    {
      "cell_type": "code",
      "execution_count": 1,
      "metadata": {
        "id": "UqJKnzskPLqR"
      },
      "outputs": [],
      "source": [
        "# import libraries\n",
        "import requests\n",
        "from bs4 import BeautifulSoup\n",
        "import pandas as pd\n",
        "import time\n",
        "import datetime\n",
        "\n",
        "import smtplib   # allows you to send e-mails"
      ]
    },
    {
      "cell_type": "code",
      "source": [
        "# Connect to website\n",
        "URL = \"https://www.amazon.in/TRESemme-Keratin-Smooth-Shampoo-1000ml/dp/B07L3ZCJ53/ref=lp_6623232031_1_1\"\n",
        "\n",
        "# Headers for requests\n",
        "headers = {'User-Agent': 'Mozilla 5.0','Accept-Language': 'en-US, en: q = 0.5'}\n",
        "\n",
        "# http requests\n",
        "page = requests.get(URL, headers=headers)\n",
        "print(page)\n"
      ],
      "metadata": {
        "colab": {
          "base_uri": "https://localhost:8080/"
        },
        "id": "MSzVwXxdPhU1",
        "outputId": "2095a793-0392-43e9-da02-f4357678cd4d"
      },
      "execution_count": 2,
      "outputs": [
        {
          "output_type": "stream",
          "name": "stdout",
          "text": [
            "<Response [200]>\n"
          ]
        }
      ]
    },
    {
      "cell_type": "code",
      "source": [
        "page.content"
      ],
      "metadata": {
        "id": "RAab5aX_PswX"
      },
      "execution_count": null,
      "outputs": []
    },
    {
      "cell_type": "code",
      "source": [
        "\n",
        "# Soup object containing all data\n",
        "soup_1 = BeautifulSoup(page.content, \"html.parser\")\n",
        "\n",
        "soup_2 = BeautifulSoup(soup_1.prettify(), \"html.parser\")\n",
        "\n",
        "title = soup_2.find(id = 'productTitle').get_text()\n",
        "\n",
        "\n",
        "ratings = soup_2.find(id=\"acrCustomerReviewText\").get_text()\n",
        "\n",
        "print(title)\n",
        "print(ratings)\n"
      ],
      "metadata": {
        "colab": {
          "base_uri": "https://localhost:8080/"
        },
        "id": "UudlzrJ-PiMl",
        "outputId": "6d338357-190a-4ad0-ef77-33c755c2557e"
      },
      "execution_count": 4,
      "outputs": [
        {
          "output_type": "stream",
          "name": "stdout",
          "text": [
            "\n",
            "            TRESemme Keratin Smooth Shampoo 1 L, With Keratin & Argan Oil for Straighter, Shinier Hair - Nourishes Dry Hair & Controls Frizz, For Men & Women\n",
            "           \n",
            "\n",
            "             49,011 ratings\n",
            "            \n"
          ]
        }
      ]
    },
    {
      "cell_type": "code",
      "source": [
        "# Stripping the White space\n",
        "\n",
        "title = title.strip()\n",
        "ratings = ratings.strip()\n",
        "\n",
        "print(title)\n",
        "print(ratings)"
      ],
      "metadata": {
        "colab": {
          "base_uri": "https://localhost:8080/"
        },
        "id": "1eKS9xSVU4BX",
        "outputId": "f987b6e4-3549-4406-e91f-5a110439f124"
      },
      "execution_count": 5,
      "outputs": [
        {
          "output_type": "stream",
          "name": "stdout",
          "text": [
            "TRESemme Keratin Smooth Shampoo 1 L, With Keratin & Argan Oil for Straighter, Shinier Hair - Nourishes Dry Hair & Controls Frizz, For Men & Women\n",
            "49,011 ratings\n"
          ]
        }
      ]
    },
    {
      "cell_type": "code",
      "source": [
        "# printing the price and stripping the white space\n",
        "\n",
        "tag = soup_2.find('span',class_=\"a-offscreen\")\n",
        "for i in tag:\n",
        "    price=i.text\n",
        "\n",
        "price = price.strip()\n",
        "print(price)"
      ],
      "metadata": {
        "colab": {
          "base_uri": "https://localhost:8080/"
        },
        "id": "GpWP_LkZnMGj",
        "outputId": "e7817370-3ee9-44ce-f9ec-fa63497319ad"
      },
      "execution_count": 6,
      "outputs": [
        {
          "output_type": "stream",
          "name": "stdout",
          "text": [
            "₹596.00\n"
          ]
        }
      ]
    },
    {
      "cell_type": "code",
      "source": [
        "# using datetime\n",
        "\n",
        "today = datetime.date.today()\n",
        "print(today)"
      ],
      "metadata": {
        "colab": {
          "base_uri": "https://localhost:8080/"
        },
        "id": "R0oj3KYZnLCE",
        "outputId": "49d928e0-ba86-4d3b-94bc-e01c22e5420f"
      },
      "execution_count": 7,
      "outputs": [
        {
          "output_type": "stream",
          "name": "stdout",
          "text": [
            "2023-06-26\n"
          ]
        }
      ]
    },
    {
      "cell_type": "code",
      "source": [
        "import csv\n",
        "\n",
        "header = ['Title','Price', 'Ratings', 'Today']\n",
        "data = [title, price, ratings, today]\n",
        "# with open('AmazonWebScraperDataset.csv', 'w', newline=\"\", encoding='UTF8') as f:\n",
        "#   writer = csv.writer(f)\n",
        "#   writer.writerow(header)\n",
        "#   writer.writerow(data)"
      ],
      "metadata": {
        "id": "0oqNwncHU4Ga"
      },
      "execution_count": 8,
      "outputs": []
    },
    {
      "cell_type": "code",
      "source": [
        "df = pd.read_csv('AmazonWebScraperDataset.csv')\n",
        "df"
      ],
      "metadata": {
        "colab": {
          "base_uri": "https://localhost:8080/",
          "height": 80
        },
        "id": "XPZfIaaH-x3J",
        "outputId": "9b5a287f-35f2-4fe6-8dc9-e1ca12fb1425"
      },
      "execution_count": 9,
      "outputs": [
        {
          "output_type": "execute_result",
          "data": {
            "text/plain": [
              "                                               Title    Price         Ratings  \\\n",
              "0  TRESemme Keratin Smooth Shampoo 1 L, With Kera...  ₹596.00  49,011 ratings   \n",
              "\n",
              "        Today  \n",
              "0  2023-06-26  "
            ],
            "text/html": [
              "\n",
              "  <div id=\"df-884fcad6-bec1-4ffd-a6ae-e06f009ac705\">\n",
              "    <div class=\"colab-df-container\">\n",
              "      <div>\n",
              "<style scoped>\n",
              "    .dataframe tbody tr th:only-of-type {\n",
              "        vertical-align: middle;\n",
              "    }\n",
              "\n",
              "    .dataframe tbody tr th {\n",
              "        vertical-align: top;\n",
              "    }\n",
              "\n",
              "    .dataframe thead th {\n",
              "        text-align: right;\n",
              "    }\n",
              "</style>\n",
              "<table border=\"1\" class=\"dataframe\">\n",
              "  <thead>\n",
              "    <tr style=\"text-align: right;\">\n",
              "      <th></th>\n",
              "      <th>Title</th>\n",
              "      <th>Price</th>\n",
              "      <th>Ratings</th>\n",
              "      <th>Today</th>\n",
              "    </tr>\n",
              "  </thead>\n",
              "  <tbody>\n",
              "    <tr>\n",
              "      <th>0</th>\n",
              "      <td>TRESemme Keratin Smooth Shampoo 1 L, With Kera...</td>\n",
              "      <td>₹596.00</td>\n",
              "      <td>49,011 ratings</td>\n",
              "      <td>2023-06-26</td>\n",
              "    </tr>\n",
              "  </tbody>\n",
              "</table>\n",
              "</div>\n",
              "      <button class=\"colab-df-convert\" onclick=\"convertToInteractive('df-884fcad6-bec1-4ffd-a6ae-e06f009ac705')\"\n",
              "              title=\"Convert this dataframe to an interactive table.\"\n",
              "              style=\"display:none;\">\n",
              "        \n",
              "  <svg xmlns=\"http://www.w3.org/2000/svg\" height=\"24px\"viewBox=\"0 0 24 24\"\n",
              "       width=\"24px\">\n",
              "    <path d=\"M0 0h24v24H0V0z\" fill=\"none\"/>\n",
              "    <path d=\"M18.56 5.44l.94 2.06.94-2.06 2.06-.94-2.06-.94-.94-2.06-.94 2.06-2.06.94zm-11 1L8.5 8.5l.94-2.06 2.06-.94-2.06-.94L8.5 2.5l-.94 2.06-2.06.94zm10 10l.94 2.06.94-2.06 2.06-.94-2.06-.94-.94-2.06-.94 2.06-2.06.94z\"/><path d=\"M17.41 7.96l-1.37-1.37c-.4-.4-.92-.59-1.43-.59-.52 0-1.04.2-1.43.59L10.3 9.45l-7.72 7.72c-.78.78-.78 2.05 0 2.83L4 21.41c.39.39.9.59 1.41.59.51 0 1.02-.2 1.41-.59l7.78-7.78 2.81-2.81c.8-.78.8-2.07 0-2.86zM5.41 20L4 18.59l7.72-7.72 1.47 1.35L5.41 20z\"/>\n",
              "  </svg>\n",
              "      </button>\n",
              "      \n",
              "  <style>\n",
              "    .colab-df-container {\n",
              "      display:flex;\n",
              "      flex-wrap:wrap;\n",
              "      gap: 12px;\n",
              "    }\n",
              "\n",
              "    .colab-df-convert {\n",
              "      background-color: #E8F0FE;\n",
              "      border: none;\n",
              "      border-radius: 50%;\n",
              "      cursor: pointer;\n",
              "      display: none;\n",
              "      fill: #1967D2;\n",
              "      height: 32px;\n",
              "      padding: 0 0 0 0;\n",
              "      width: 32px;\n",
              "    }\n",
              "\n",
              "    .colab-df-convert:hover {\n",
              "      background-color: #E2EBFA;\n",
              "      box-shadow: 0px 1px 2px rgba(60, 64, 67, 0.3), 0px 1px 3px 1px rgba(60, 64, 67, 0.15);\n",
              "      fill: #174EA6;\n",
              "    }\n",
              "\n",
              "    [theme=dark] .colab-df-convert {\n",
              "      background-color: #3B4455;\n",
              "      fill: #D2E3FC;\n",
              "    }\n",
              "\n",
              "    [theme=dark] .colab-df-convert:hover {\n",
              "      background-color: #434B5C;\n",
              "      box-shadow: 0px 1px 3px 1px rgba(0, 0, 0, 0.15);\n",
              "      filter: drop-shadow(0px 1px 2px rgba(0, 0, 0, 0.3));\n",
              "      fill: #FFFFFF;\n",
              "    }\n",
              "  </style>\n",
              "\n",
              "      <script>\n",
              "        const buttonEl =\n",
              "          document.querySelector('#df-884fcad6-bec1-4ffd-a6ae-e06f009ac705 button.colab-df-convert');\n",
              "        buttonEl.style.display =\n",
              "          google.colab.kernel.accessAllowed ? 'block' : 'none';\n",
              "\n",
              "        async function convertToInteractive(key) {\n",
              "          const element = document.querySelector('#df-884fcad6-bec1-4ffd-a6ae-e06f009ac705');\n",
              "          const dataTable =\n",
              "            await google.colab.kernel.invokeFunction('convertToInteractive',\n",
              "                                                     [key], {});\n",
              "          if (!dataTable) return;\n",
              "\n",
              "          const docLinkHtml = 'Like what you see? Visit the ' +\n",
              "            '<a target=\"_blank\" href=https://colab.research.google.com/notebooks/data_table.ipynb>data table notebook</a>'\n",
              "            + ' to learn more about interactive tables.';\n",
              "          element.innerHTML = '';\n",
              "          dataTable['output_type'] = 'display_data';\n",
              "          await google.colab.output.renderOutput(dataTable, element);\n",
              "          const docLink = document.createElement('div');\n",
              "          docLink.innerHTML = docLinkHtml;\n",
              "          element.appendChild(docLink);\n",
              "        }\n",
              "      </script>\n",
              "    </div>\n",
              "  </div>\n",
              "  "
            ]
          },
          "metadata": {},
          "execution_count": 9
        }
      ]
    },
    {
      "cell_type": "code",
      "source": [
        "# Now we are appennding data to the csv.\n",
        "\n",
        "with open('AmazonWebScraperDataset.csv', 'a+', newline=\"\", encoding='UTF8') as f:\n",
        "  writer = csv.writer(f)\n",
        "  # writer.writerow(header)\n",
        "  writer.writerow(data)"
      ],
      "metadata": {
        "id": "YgsaRUDhItUW"
      },
      "execution_count": 10,
      "outputs": []
    },
    {
      "cell_type": "code",
      "source": [
        "def check_price():\n",
        "  URL = \"https://www.amazon.in/TRESemme-Keratin-Smooth-Shampoo-1000ml/dp/B07L3ZCJ53/ref=lp_6623232031_1_1\"\n",
        "\n",
        "  # Headers for requests\n",
        "  headers = {'User-Agent': 'Mozilla 5.0','Accept-Language': 'en-US, en: q = 0.5'}\n",
        "\n",
        "  # http requests\n",
        "  page = requests.get(URL, headers=headers)\n",
        "  print(page)\n",
        "\n",
        "  # Soup object containing all data\n",
        "  soup_1 = BeautifulSoup(page.content, \"html.parser\")\n",
        "\n",
        "  soup_2 = BeautifulSoup(soup_1.prettify(), \"html.parser\")\n",
        "\n",
        "  title = soup_2.find(id = 'productTitle').get_text()\n",
        "\n",
        "  ratings = soup_2.find(id=\"acrCustomerReviewText\").get_text()\n",
        "\n",
        "  tag = soup_2.find('span',class_=\"a-offscreen\")\n",
        "  for i in tag:\n",
        "      price=i.text\n",
        "\n",
        "  price = price.strip()\n",
        "\n",
        "  title = title.strip()\n",
        "  ratings = ratings.strip()\n",
        "\n",
        "  today = datetime.date.today()\n",
        "  print(today)\n",
        "\n",
        "  import csv\n",
        "\n",
        "  header = ['Title','Price', 'Ratings', 'Today']\n",
        "  data = [title, price, ratings, today]\n",
        "\n",
        "  with open('AmazonWebScraperDataset.csv', 'a+', newline=\"\", encoding='UTF8') as f:\n",
        "    writer = csv.writer(f)\n",
        "    writer.writerow(data)\n",
        "\n",
        "  if (price<14):\n",
        "    send_mail()\n"
      ],
      "metadata": {
        "id": "clZRN9DnJZx6"
      },
      "execution_count": 11,
      "outputs": []
    },
    {
      "cell_type": "code",
      "source": [
        "while(True):\n",
        "  check_price()\n",
        "  time.sleep(86400)"
      ],
      "metadata": {
        "id": "d4N_ZshTNWK8"
      },
      "execution_count": null,
      "outputs": []
    },
    {
      "cell_type": "code",
      "source": [
        "df = pd.read_csv('AmazonWebScraperDataset.csv')\n",
        "df"
      ],
      "metadata": {
        "colab": {
          "base_uri": "https://localhost:8080/",
          "height": 318
        },
        "id": "SWqIJraNNlQW",
        "outputId": "0eed0e0e-613e-409b-83b2-9acabe0b8b5f"
      },
      "execution_count": 16,
      "outputs": [
        {
          "output_type": "execute_result",
          "data": {
            "text/plain": [
              "                                               Title    Price         Ratings  \\\n",
              "0  TRESemme Keratin Smooth Shampoo 1 L, With Kera...  ₹596.00  49,011 ratings   \n",
              "1  TRESemme Keratin Smooth Shampoo 1 L, With Kera...  ₹596.00  49,011 ratings   \n",
              "2  TRESemme Keratin Smooth Shampoo 1 L, With Kera...  ₹596.00  49,011 ratings   \n",
              "3  TRESemme Keratin Smooth Shampoo 1 L, With Kera...  ₹596.00  49,011 ratings   \n",
              "4  TRESemme Keratin Smooth Shampoo 1 L, With Kera...  ₹596.00  49,011 ratings   \n",
              "5  TRESemme Keratin Smooth Shampoo 1 L, With Kera...  ₹596.00  49,011 ratings   \n",
              "6  TRESemme Keratin Smooth Shampoo 1 L, With Kera...  ₹596.00  49,011 ratings   \n",
              "7  TRESemme Keratin Smooth Shampoo 1 L, With Kera...  ₹596.00  49,011 ratings   \n",
              "8  TRESemme Keratin Smooth Shampoo 1 L, With Kera...  ₹596.00  49,011 ratings   \n",
              "9  TRESemme Keratin Smooth Shampoo 1 L, With Kera...  ₹596.00  49,011 ratings   \n",
              "\n",
              "        Today  \n",
              "0  2023-06-26  \n",
              "1  2023-06-26  \n",
              "2  2023-06-26  \n",
              "3  2023-06-26  \n",
              "4  2023-06-26  \n",
              "5  2023-06-26  \n",
              "6  2023-06-26  \n",
              "7  2023-06-26  \n",
              "8  2023-06-26  \n",
              "9  2023-06-26  "
            ],
            "text/html": [
              "\n",
              "  <div id=\"df-7a72b6c8-7235-403f-815a-9c6740962c17\">\n",
              "    <div class=\"colab-df-container\">\n",
              "      <div>\n",
              "<style scoped>\n",
              "    .dataframe tbody tr th:only-of-type {\n",
              "        vertical-align: middle;\n",
              "    }\n",
              "\n",
              "    .dataframe tbody tr th {\n",
              "        vertical-align: top;\n",
              "    }\n",
              "\n",
              "    .dataframe thead th {\n",
              "        text-align: right;\n",
              "    }\n",
              "</style>\n",
              "<table border=\"1\" class=\"dataframe\">\n",
              "  <thead>\n",
              "    <tr style=\"text-align: right;\">\n",
              "      <th></th>\n",
              "      <th>Title</th>\n",
              "      <th>Price</th>\n",
              "      <th>Ratings</th>\n",
              "      <th>Today</th>\n",
              "    </tr>\n",
              "  </thead>\n",
              "  <tbody>\n",
              "    <tr>\n",
              "      <th>0</th>\n",
              "      <td>TRESemme Keratin Smooth Shampoo 1 L, With Kera...</td>\n",
              "      <td>₹596.00</td>\n",
              "      <td>49,011 ratings</td>\n",
              "      <td>2023-06-26</td>\n",
              "    </tr>\n",
              "    <tr>\n",
              "      <th>1</th>\n",
              "      <td>TRESemme Keratin Smooth Shampoo 1 L, With Kera...</td>\n",
              "      <td>₹596.00</td>\n",
              "      <td>49,011 ratings</td>\n",
              "      <td>2023-06-26</td>\n",
              "    </tr>\n",
              "    <tr>\n",
              "      <th>2</th>\n",
              "      <td>TRESemme Keratin Smooth Shampoo 1 L, With Kera...</td>\n",
              "      <td>₹596.00</td>\n",
              "      <td>49,011 ratings</td>\n",
              "      <td>2023-06-26</td>\n",
              "    </tr>\n",
              "    <tr>\n",
              "      <th>3</th>\n",
              "      <td>TRESemme Keratin Smooth Shampoo 1 L, With Kera...</td>\n",
              "      <td>₹596.00</td>\n",
              "      <td>49,011 ratings</td>\n",
              "      <td>2023-06-26</td>\n",
              "    </tr>\n",
              "    <tr>\n",
              "      <th>4</th>\n",
              "      <td>TRESemme Keratin Smooth Shampoo 1 L, With Kera...</td>\n",
              "      <td>₹596.00</td>\n",
              "      <td>49,011 ratings</td>\n",
              "      <td>2023-06-26</td>\n",
              "    </tr>\n",
              "    <tr>\n",
              "      <th>5</th>\n",
              "      <td>TRESemme Keratin Smooth Shampoo 1 L, With Kera...</td>\n",
              "      <td>₹596.00</td>\n",
              "      <td>49,011 ratings</td>\n",
              "      <td>2023-06-26</td>\n",
              "    </tr>\n",
              "    <tr>\n",
              "      <th>6</th>\n",
              "      <td>TRESemme Keratin Smooth Shampoo 1 L, With Kera...</td>\n",
              "      <td>₹596.00</td>\n",
              "      <td>49,011 ratings</td>\n",
              "      <td>2023-06-26</td>\n",
              "    </tr>\n",
              "    <tr>\n",
              "      <th>7</th>\n",
              "      <td>TRESemme Keratin Smooth Shampoo 1 L, With Kera...</td>\n",
              "      <td>₹596.00</td>\n",
              "      <td>49,011 ratings</td>\n",
              "      <td>2023-06-26</td>\n",
              "    </tr>\n",
              "    <tr>\n",
              "      <th>8</th>\n",
              "      <td>TRESemme Keratin Smooth Shampoo 1 L, With Kera...</td>\n",
              "      <td>₹596.00</td>\n",
              "      <td>49,011 ratings</td>\n",
              "      <td>2023-06-26</td>\n",
              "    </tr>\n",
              "    <tr>\n",
              "      <th>9</th>\n",
              "      <td>TRESemme Keratin Smooth Shampoo 1 L, With Kera...</td>\n",
              "      <td>₹596.00</td>\n",
              "      <td>49,011 ratings</td>\n",
              "      <td>2023-06-26</td>\n",
              "    </tr>\n",
              "  </tbody>\n",
              "</table>\n",
              "</div>\n",
              "      <button class=\"colab-df-convert\" onclick=\"convertToInteractive('df-7a72b6c8-7235-403f-815a-9c6740962c17')\"\n",
              "              title=\"Convert this dataframe to an interactive table.\"\n",
              "              style=\"display:none;\">\n",
              "        \n",
              "  <svg xmlns=\"http://www.w3.org/2000/svg\" height=\"24px\"viewBox=\"0 0 24 24\"\n",
              "       width=\"24px\">\n",
              "    <path d=\"M0 0h24v24H0V0z\" fill=\"none\"/>\n",
              "    <path d=\"M18.56 5.44l.94 2.06.94-2.06 2.06-.94-2.06-.94-.94-2.06-.94 2.06-2.06.94zm-11 1L8.5 8.5l.94-2.06 2.06-.94-2.06-.94L8.5 2.5l-.94 2.06-2.06.94zm10 10l.94 2.06.94-2.06 2.06-.94-2.06-.94-.94-2.06-.94 2.06-2.06.94z\"/><path d=\"M17.41 7.96l-1.37-1.37c-.4-.4-.92-.59-1.43-.59-.52 0-1.04.2-1.43.59L10.3 9.45l-7.72 7.72c-.78.78-.78 2.05 0 2.83L4 21.41c.39.39.9.59 1.41.59.51 0 1.02-.2 1.41-.59l7.78-7.78 2.81-2.81c.8-.78.8-2.07 0-2.86zM5.41 20L4 18.59l7.72-7.72 1.47 1.35L5.41 20z\"/>\n",
              "  </svg>\n",
              "      </button>\n",
              "      \n",
              "  <style>\n",
              "    .colab-df-container {\n",
              "      display:flex;\n",
              "      flex-wrap:wrap;\n",
              "      gap: 12px;\n",
              "    }\n",
              "\n",
              "    .colab-df-convert {\n",
              "      background-color: #E8F0FE;\n",
              "      border: none;\n",
              "      border-radius: 50%;\n",
              "      cursor: pointer;\n",
              "      display: none;\n",
              "      fill: #1967D2;\n",
              "      height: 32px;\n",
              "      padding: 0 0 0 0;\n",
              "      width: 32px;\n",
              "    }\n",
              "\n",
              "    .colab-df-convert:hover {\n",
              "      background-color: #E2EBFA;\n",
              "      box-shadow: 0px 1px 2px rgba(60, 64, 67, 0.3), 0px 1px 3px 1px rgba(60, 64, 67, 0.15);\n",
              "      fill: #174EA6;\n",
              "    }\n",
              "\n",
              "    [theme=dark] .colab-df-convert {\n",
              "      background-color: #3B4455;\n",
              "      fill: #D2E3FC;\n",
              "    }\n",
              "\n",
              "    [theme=dark] .colab-df-convert:hover {\n",
              "      background-color: #434B5C;\n",
              "      box-shadow: 0px 1px 3px 1px rgba(0, 0, 0, 0.15);\n",
              "      filter: drop-shadow(0px 1px 2px rgba(0, 0, 0, 0.3));\n",
              "      fill: #FFFFFF;\n",
              "    }\n",
              "  </style>\n",
              "\n",
              "      <script>\n",
              "        const buttonEl =\n",
              "          document.querySelector('#df-7a72b6c8-7235-403f-815a-9c6740962c17 button.colab-df-convert');\n",
              "        buttonEl.style.display =\n",
              "          google.colab.kernel.accessAllowed ? 'block' : 'none';\n",
              "\n",
              "        async function convertToInteractive(key) {\n",
              "          const element = document.querySelector('#df-7a72b6c8-7235-403f-815a-9c6740962c17');\n",
              "          const dataTable =\n",
              "            await google.colab.kernel.invokeFunction('convertToInteractive',\n",
              "                                                     [key], {});\n",
              "          if (!dataTable) return;\n",
              "\n",
              "          const docLinkHtml = 'Like what you see? Visit the ' +\n",
              "            '<a target=\"_blank\" href=https://colab.research.google.com/notebooks/data_table.ipynb>data table notebook</a>'\n",
              "            + ' to learn more about interactive tables.';\n",
              "          element.innerHTML = '';\n",
              "          dataTable['output_type'] = 'display_data';\n",
              "          await google.colab.output.renderOutput(dataTable, element);\n",
              "          const docLink = document.createElement('div');\n",
              "          docLink.innerHTML = docLinkHtml;\n",
              "          element.appendChild(docLink);\n",
              "        }\n",
              "      </script>\n",
              "    </div>\n",
              "  </div>\n",
              "  "
            ]
          },
          "metadata": {},
          "execution_count": 16
        }
      ]
    },
    {
      "cell_type": "code",
      "source": [],
      "metadata": {
        "id": "ximxK7F12daw"
      },
      "execution_count": null,
      "outputs": []
    },
    {
      "cell_type": "code",
      "source": [],
      "metadata": {
        "id": "K79tTz6P2ddd"
      },
      "execution_count": null,
      "outputs": []
    },
    {
      "cell_type": "code",
      "source": [],
      "metadata": {
        "id": "2lvHmww72dhF"
      },
      "execution_count": null,
      "outputs": []
    }
  ]
}